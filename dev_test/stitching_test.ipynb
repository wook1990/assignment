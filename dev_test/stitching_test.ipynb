{
 "cells": [
  {
   "cell_type": "code",
   "execution_count": 2,
   "metadata": {},
   "outputs": [],
   "source": [
    "import cv2\n",
    "import os\n",
    "import math\n",
    "import random\n",
    "import glob\n",
    "import sys\n",
    "import numpy as np \n",
    "from PIL import Image"
   ]
  },
  {
   "cell_type": "code",
   "execution_count": 3,
   "metadata": {},
   "outputs": [],
   "source": [
    "image_path = \"image/origin.jpeg\"\n",
    "# mat -> [col, row]\n",
    "cols, rows = 2, 2"
   ]
  },
  {
   "cell_type": "code",
   "execution_count": 4,
   "metadata": {},
   "outputs": [],
   "source": [
    "# 분할된 이미지를 확인하기 위한 코드\n",
    "import matplotlib.pyplot as plt\n",
    "\n",
    "def show_img(img_set):\n",
    "    fig = plt.figure()\n",
    "    idx = 1\n",
    "    for i in range(len(img_set)):\n",
    "        ax = fig.add_subplot(rows, cols, idx)\n",
    "        ax.imshow(cv2.cvtColor(img_set[i], cv2.COLOR_BGR2RGB))\n",
    "        ax.set_xticks([])\n",
    "        ax.set_yticks([])\n",
    "        idx +=1\n",
    "    plt.show()\n"
   ]
  },
  {
   "cell_type": "code",
   "execution_count": 16,
   "metadata": {},
   "outputs": [
    {
     "name": "stdout",
     "output_type": "stream",
     "text": [
      "left:0, top:0, right:384, bottom:512\n",
      "left:384, top:0, right:768, bottom:512\n",
      "left:0, top:512, right:384, bottom:1024\n",
      "left:384, top:512, right:768, bottom:1024\n"
     ]
    }
   ],
   "source": [
    "# 이미지 로드\n",
    "img = cv2.imread(image_path)\n",
    "# 이미지 해상도 확인 \n",
    "h, w = img.shape[:2]\n",
    "#print(h,w)\n",
    "# 이미지 분할 -> 입력받은 매트릭 개로 분할\n",
    "# 가로, 세로 크기 계산\n",
    "crop_h = (h/rows if (h/rows).is_integer() else math.trunc(h/rows))\n",
    "crop_w = (w/cols if (w/cols).is_integer() else math.trunc(w/cols))\n",
    "#print(crop_h, crop_w)\n",
    "\n",
    "# col by row 이미지 자르기\n",
    "cropped_images = []\n",
    "ratio = 0.3\n",
    "for i in range(rows):\n",
    "    for j in range(cols):\n",
    "        left = int(j * crop_w)\n",
    "        top = int(i * crop_h)\n",
    "        right = int((j + 1) * crop_w)\n",
    "        bottom = int((i + 1) * crop_h)\n",
    "        print(f\"left:{left}, top:{top}, right:{right}, bottom:{bottom}\")\n",
    "        #cropped_image = img[int(top - math.trunc(top * 0.3)):int(bottom + math.trunc(bottom * 0.3)), int(left - math.trunc(left * 0.3)):int(right + math.trunc(right * 0.3))]\n",
    "        cropped_image = img[int(top):int(bottom), int(left):int(right)]\n",
    "        # print(int(top - top * 0.3), int(bottom + bottom * 0.3), int(left - left * 0.3) , int(right + right * 0.3))\n",
    "\n",
    "# 분할된 이미가 각 50%의 확률로 미러링, 플립핑, 90도 변환이 되록하여 아웃풋 이미지들을 만들어 낸뒤 저장\n",
    "        '''\n",
    "        # mirroring (좌우)\n",
    "        if random.random() > 0.5:\n",
    "            cropped_image = cv2.flip(cropped_image, 1)\n",
    "            #print(\"mirroring is done\")\n",
    "        # flipping (상하)\n",
    "        if random.random() > 0.5:\n",
    "            cropped_image = cv2.flip(cropped_image, 0)\n",
    "            #print(\"flipping is done\")\n",
    "        # 90도변환\n",
    "        if random.random() > 0.5:\n",
    "            cropped_image = cv2.rotate(cropped_image, cv2.ROTATE_90_CLOCKWISE)\n",
    "            #print(\"rotatind is done\")\n",
    "        '''\n",
    "        cropped_images.append(cropped_image)\n",
    "\n",
    "# 이미지 저장 -> 정보를 알 수 없게 \n",
    "if not os.path.exists(\"image/crooped_images/\"):\n",
    "    os.mkdir(\"image/crooped_images/\")\n",
    "else:\n",
    "    [os.remove(f) for f in glob.glob(\"image/crooped_images/*.jpg\")]\n",
    "    \n",
    "for img in cropped_images:\n",
    "    cv2.imwrite(f\"image/crooped_images/cropped_{int(round(random.random(),7) * 10000000)}.jpg\", img)\n"
   ]
  },
  {
   "cell_type": "code",
   "execution_count": 17,
   "outputs": [],
   "source": [
    "show_img(cropped_images)"
   ],
   "metadata": {
    "collapsed": false
   }
  },
  {
   "cell_type": "code",
   "execution_count": 7,
   "metadata": {},
   "outputs": [],
   "source": [
    "stitcher = cv2.Stitcher_create()\n",
    "\n",
    "def stitching_img(stan_img, proc_img):\n",
    "    \n",
    "    ret, dst = stitcher.stitch([stan_img, proc_img])\n",
    "\n",
    "    if ret != cv2.Stitcher_OK:\n",
    "        print('Stitch failed')\n",
    "        return None, False\n",
    "        \n",
    "    return dst, True   \n",
    "    "
   ]
  },
  {
   "cell_type": "code",
   "execution_count": null,
   "metadata": {
    "pycharm": {
     "is_executing": true
    }
   },
   "outputs": [],
   "source": [
    "\n",
    "\n",
    "# gray sclae & down resolution\n",
    "processing_img = [cv2.resize(cv2.cvtColor(img, cv2.COLOR_BGR2GRAY), (0,0), fx=4, fy=4, interpolation = cv2.INTER_AREA) for img in cropped_images]\n",
    "\n",
    "stand_img = processing_img[0]\n",
    "proc_img = processing_img[1]\n",
    "\n",
    "# 1. not transformation\n",
    "results, flag = stitching_img(stand_img, proc_img)\n",
    "if flag == True:\n",
    "    plt.imshow(results)"
   ]
  },
  {
   "cell_type": "code",
   "execution_count": null,
   "metadata": {
    "pycharm": {
     "is_executing": true
    }
   },
   "outputs": [],
   "source": [
    "# 2. mirroring\n",
    "result, flag = stitching_img(stand_img, cv2.flip(proc_img, 1))\n",
    "if result != None:\n",
    "    plt.imshow(result)\n",
    "print(flag)"
   ]
  },
  {
   "cell_type": "code",
   "execution_count": null,
   "metadata": {},
   "outputs": [],
   "source": [
    "# 3. flipping \n",
    "result, flag = stitching_img(stand_img, cv2.flip(proc_img, 0))\n",
    "if result != None:\n",
    "    plt.imshow(result)\n",
    "print(flag)"
   ]
  },
  {
   "cell_type": "code",
   "execution_count": null,
   "metadata": {},
   "outputs": [],
   "source": [
    "# 4. 90 degree rotation\n",
    "result, flag = stitching_img(stand_img, cv2.rotate(proc_img, cv2.ROTATE_90_COUNTERCLOCKWISE))\n",
    "if result != None:\n",
    "    plt.imshow(result)\n",
    "print(flag)"
   ]
  },
  {
   "cell_type": "code",
   "execution_count": null,
   "metadata": {
    "pycharm": {
     "is_executing": true
    }
   },
   "outputs": [],
   "source": [
    "# 5. mirroring & filpping\n",
    "result, flag = stitching_img(stand_img, cv2.flip(cv2.flip(proc_img, 1), 0))\n",
    "if result != None:\n",
    "    plt.imshow(result)\n",
    "print(flag)"
   ]
  },
  {
   "cell_type": "code",
   "execution_count": null,
   "metadata": {},
   "outputs": [],
   "source": [
    "# 6. mirroring & 90 degree\n",
    "result, flag = stitching_img(stand_img, cv2.rotate(cv2.flip(proc_img,1), cv2.ROTATE_90_COUNTERCLOCKWISE))\n",
    "if result != None:\n",
    "    plt.imshow(result)\n",
    "print(flag)"
   ]
  },
  {
   "cell_type": "code",
   "execution_count": null,
   "metadata": {},
   "outputs": [],
   "source": [
    "# 7. flipping & 90 degree\n",
    "result, flag = stitching_img(stand_img, cv2.rotate(cv2.flip(proc_img, 0), cv2.ROTATE_90_COUNTERCLOCKWISE))\n",
    "if result != None:\n",
    "    plt.imshow(result)\n",
    "print(flag)"
   ]
  },
  {
   "cell_type": "code",
   "execution_count": null,
   "metadata": {
    "pycharm": {
     "is_executing": true
    }
   },
   "outputs": [],
   "source": [
    "# 8. mirroring & flipping & 90 degree\n",
    "result, flag = stitching_img(stand_img, cv2.rotate(cv2.flip(cv2.flip(proc_img, 1), 0), cv2.ROTATE_90_COUNTERCLOCKWISE))\n",
    "if result != None:\n",
    "    plt.imshow(result)\n",
    "print(flag)"
   ]
  },
  {
   "cell_type": "code",
   "execution_count": 19,
   "metadata": {},
   "outputs": [],
   "source": [
    "import cv2\n",
    "import os\n",
    "import math\n",
    "import random\n",
    "import glob\n",
    "import sys\n",
    "import numpy as np\n",
    "from PIL import Image\n",
    "\n",
    "image_path = \"image/origin.jpeg\"\n",
    "# mat -> [col, row]\n",
    "cols, rows = 2, 2\n",
    "stitcher = cv2.Stitcher_create()\n",
    "\n",
    "\n",
    "def stitching_img(stan_img, proc_img):\n",
    "\n",
    "    ret, dst = stitcher.stitch([stan_img, proc_img])\n",
    "\n",
    "    if ret != cv2.Stitcher_OK:\n",
    "        print('Stitch failed')\n",
    "        return None, False\n",
    "\n",
    "    return dst, True\n",
    "\n",
    "def set_resolution(cropped_images):\n",
    "    res_set = []\n",
    "\n",
    "    for idx, img in enumerate(cropped_images):\n",
    "        if idx == 0:\n",
    "            stan_img_shape = img.shape[:2]\n",
    "            print(stan_img_shape)\n",
    "            res_set.append(img)\n",
    "        else:\n",
    "            if stan_img_shape == img.shape[:2]:\n",
    "                #print(\"ok\")\n",
    "                res_set.append(img)\n",
    "            else:\n",
    "                sub_img = cv2.rotate(img, cv2.ROTATE_90_COUNTERCLOCKWISE)\n",
    "                #print(sub_img.shape[:2])\n",
    "                res_set.append(sub_img)\n",
    "\n",
    "    return res_set\n",
    "\n",
    "def show_img(img_list):\n",
    "    for idx, img in enumerate(img_list):\n",
    "        cv2.imshow(f\"img_{idx}\", img)\n",
    "    cv2.waitKey(0)\n",
    "    cv2.destroyAllWindows()\n"
   ]
  },
  {
   "cell_type": "code",
   "execution_count": 30,
   "outputs": [
    {
     "name": "stdout",
     "output_type": "stream",
     "text": [
      "(512, 384)\n",
      "[(512, 384), (512, 384), (512, 384), (512, 384)]\n"
     ]
    }
   ],
   "source": [
    "cropped_images  = [cv2.imread(f) for f in glob.glob(\"image/crooped_images/*.jpg\")]\n",
    "\n",
    "# Gray Scale 변환\n",
    "processed_img = [cv2.cvtColor(img, cv2.COLOR_BGR2GRAY) for img in cropped_images]\n",
    "\n",
    "# Gaussian Blur\n",
    "processed_img = [cv2.GaussianBlur(img, (0,0), 2) for img in processed_img]\n",
    "\n",
    "res_imgs = set_resolution(processed_img)\n",
    "\n",
    "resolutions = [i.shape[:2] for i in res_imgs]\n",
    "print(resolutions)\n",
    "\n",
    "# 2. image merge(using stitching)\n",
    "\n",
    "#show_img(processed_img)\n",
    "canny_img = [cv2.Canny(img, 60,200) for img in processed_img]\n",
    "\n",
    "show_img(res_imgs)"
   ],
   "metadata": {
    "collapsed": false
   }
  },
  {
   "cell_type": "code",
   "execution_count": 31,
   "outputs": [],
   "source": [
    "show_img(res_imgs)"
   ],
   "metadata": {
    "collapsed": false
   }
  },
  {
   "cell_type": "code",
   "execution_count": 40,
   "outputs": [
    {
     "name": "stdout",
     "output_type": "stream",
     "text": [
      "28052\n"
     ]
    }
   ],
   "source": [
    "img1 = res_imgs[0]\n",
    "img2 = res_imgs[2]\n",
    "v_img = cv2.hconcat([img1, img2])\n",
    "v_c_img = cv2.hconcat([cv2.Canny(img1, 60,200), cv2.Canny(img2, 60,200)])\n",
    "v_canny = cv2.Canny(v_img, 60,200)\n",
    "show_img([v_c_img, v_canny, (v_canny - v_c_img)])\n",
    "\n",
    "print(np.sum(v_canny - v_c_img))\n"
   ],
   "metadata": {
    "collapsed": false
   }
  }
 ],
 "metadata": {
  "kernelspec": {
   "display_name": "test",
   "language": "python",
   "name": "python3"
  },
  "language_info": {
   "codemirror_mode": {
    "name": "ipython",
    "version": 3
   },
   "file_extension": ".py",
   "mimetype": "text/x-python",
   "name": "python",
   "nbconvert_exporter": "python",
   "pygments_lexer": "ipython3",
   "version": "3.8.16"
  },
  "orig_nbformat": 4
 },
 "nbformat": 4,
 "nbformat_minor": 2
}
